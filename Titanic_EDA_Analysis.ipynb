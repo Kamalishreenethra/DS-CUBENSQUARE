{
 "cells": [
  {
   "cell_type": "markdown",
   "id": "a44063aa",
   "metadata": {},
   "source": [
    "# 🔍 Day 6: Exploratory Data Analysis (EDA)"
   ]
  },
  {
   "cell_type": "markdown",
   "id": "a43d85cf",
   "metadata": {},
   "source": [
    "## 🧠 Objective\n",
    "Perform an in-depth exploratory analysis of the Titanic dataset using visual and statistical techniques."
   ]
  },
  {
   "cell_type": "markdown",
   "id": "7e795043",
   "metadata": {},
   "source": [
    "## 🛠️ Setup and Dataset Load"
   ]
  },
  {
   "cell_type": "code",
   "execution_count": null,
   "id": "bf9d0406",
   "metadata": {},
   "outputs": [],
   "source": [
    "import pandas as pd\n",
    "import seaborn as sns\n",
    "import matplotlib.pyplot as plt\n",
    "from scipy.stats import skew\n",
    "\n",
    "# Load Titanic dataset\n",
    "df = sns.load_dataset(\"titanic\")\n",
    "df.head()"
   ]
  },
  {
   "cell_type": "markdown",
   "id": "3fce20ee",
   "metadata": {},
   "source": [
    "## 🔸 Data Overview"
   ]
  },
  {
   "cell_type": "code",
   "execution_count": null,
   "id": "18f524c5",
   "metadata": {},
   "outputs": [],
   "source": [
    "df.info()"
   ]
  },
  {
   "cell_type": "code",
   "execution_count": null,
   "id": "8b97cd9d",
   "metadata": {},
   "outputs": [],
   "source": [
    "df.describe(include='all')"
   ]
  },
  {
   "cell_type": "markdown",
   "id": "38b14427",
   "metadata": {},
   "source": [
    "## 🔸 Variable Types"
   ]
  },
  {
   "cell_type": "code",
   "execution_count": null,
   "id": "66d936c0",
   "metadata": {},
   "outputs": [],
   "source": [
    "df.dtypes.value_counts()"
   ]
  },
  {
   "cell_type": "markdown",
   "id": "84b7dbd4",
   "metadata": {},
   "source": [
    "## 🔸 Missing Data"
   ]
  },
  {
   "cell_type": "code",
   "execution_count": null,
   "id": "faed1852",
   "metadata": {},
   "outputs": [],
   "source": [
    "df.isnull().sum().sort_values(ascending=False)"
   ]
  },
  {
   "cell_type": "code",
   "execution_count": null,
   "id": "2dada556",
   "metadata": {},
   "outputs": [],
   "source": [
    "sns.heatmap(df.isnull(), cbar=False, cmap=\"YlGnBu\")\n",
    "plt.title(\"Missing Value Heatmap\")\n",
    "plt.show()"
   ]
  },
  {
   "cell_type": "markdown",
   "id": "ca8c9f2b",
   "metadata": {},
   "source": [
    "## 🔸 Univariate Analysis"
   ]
  },
  {
   "cell_type": "code",
   "execution_count": null,
   "id": "a24b3e69",
   "metadata": {},
   "outputs": [],
   "source": [
    "sns.countplot(x='sex', data=df)\n",
    "plt.title(\"Gender Distribution\")\n",
    "plt.show()"
   ]
  },
  {
   "cell_type": "code",
   "execution_count": null,
   "id": "341401cf",
   "metadata": {},
   "outputs": [],
   "source": [
    "sns.histplot(df['age'].dropna(), kde=True, bins=30)\n",
    "plt.title(\"Age Distribution\")\n",
    "plt.show()"
   ]
  },
  {
   "cell_type": "markdown",
   "id": "df914af6",
   "metadata": {},
   "source": [
    "## 🔸 Bivariate Analysis"
   ]
  },
  {
   "cell_type": "code",
   "execution_count": null,
   "id": "b08ba24d",
   "metadata": {},
   "outputs": [],
   "source": [
    "sns.countplot(x='sex', hue='survived', data=df)\n",
    "plt.title(\"Survival Count by Gender\")\n",
    "plt.show()"
   ]
  },
  {
   "cell_type": "code",
   "execution_count": null,
   "id": "c13972a7",
   "metadata": {},
   "outputs": [],
   "source": [
    "sns.scatterplot(x='age', y='fare', hue='survived', data=df)\n",
    "plt.title(\"Fare vs Age Colored by Survival\")\n",
    "plt.show()"
   ]
  },
  {
   "cell_type": "markdown",
   "id": "6734addc",
   "metadata": {},
   "source": [
    "## 🔸 Correlation Analysis"
   ]
  },
  {
   "cell_type": "code",
   "execution_count": null,
   "id": "2e5a30e1",
   "metadata": {},
   "outputs": [],
   "source": [
    "numeric = df.select_dtypes(include='number')\n",
    "corr = numeric.corr()\n",
    "sns.heatmap(corr, annot=True, cmap='coolwarm')\n",
    "plt.title(\"Correlation Heatmap\")\n",
    "plt.show()"
   ]
  },
  {
   "cell_type": "markdown",
   "id": "0d05bd06",
   "metadata": {},
   "source": [
    "## 🔸 Outlier Detection"
   ]
  },
  {
   "cell_type": "code",
   "execution_count": null,
   "id": "3888e3d7",
   "metadata": {},
   "outputs": [],
   "source": [
    "sns.boxplot(y='fare', data=df)\n",
    "plt.title(\"Boxplot of Fare\")\n",
    "plt.show()"
   ]
  },
  {
   "cell_type": "markdown",
   "id": "6aca8f82",
   "metadata": {},
   "source": [
    "## 🔸 Skewness Check"
   ]
  },
  {
   "cell_type": "code",
   "execution_count": null,
   "id": "f37ffaf5",
   "metadata": {},
   "outputs": [],
   "source": [
    "skew_vals = df.select_dtypes(include='number').apply(lambda x: skew(x.dropna()))\n",
    "skew_vals"
   ]
  },
  {
   "cell_type": "markdown",
   "id": "ab54e1de",
   "metadata": {},
   "source": [
    "## 🎮 EDA Challenge"
   ]
  },
  {
   "cell_type": "markdown",
   "id": "d6467a30",
   "metadata": {},
   "source": [
    "\n",
    "**Try answering these using visualizations:**\n",
    "- Who had a higher survival rate: male or female?\n",
    "- Did younger passengers survive more than older ones?\n",
    "- Is there any class-based bias in survival?\n",
    "\n",
    "Use countplots, histplots, or scatter plots to derive answers.\n"
   ]
  },
  {
   "cell_type": "markdown",
   "id": "9f2a4bcb",
   "metadata": {},
   "source": [
    "## ✅ Summary\n",
    "- Understood different EDA techniques\n",
    "- Learned how to inspect and visualize data\n",
    "- Prepared to make insights before model building"
   ]
  }
 ],
 "metadata": {},
 "nbformat": 4,
 "nbformat_minor": 5
}
