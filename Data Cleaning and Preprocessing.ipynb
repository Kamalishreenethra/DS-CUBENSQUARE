{
 "cells": [
  {
   "cell_type": "markdown",
   "id": "ccbd9802",
   "metadata": {},
   "source": [
    "# 📘 Day 4: Data Cleaning and Preprocessing"
   ]
  },
  {
   "cell_type": "markdown",
   "id": "93907b88",
   "metadata": {},
   "source": [
    "## 🧼 Topics Covered\n",
    "- Handling missing data\n",
    "- Removing duplicates\n",
    "- Feature scaling\n",
    "- Encoding categorical variables"
   ]
  },
  {
   "cell_type": "markdown",
   "id": "81c37b6e",
   "metadata": {},
   "source": [
    "## 📂 Load Titanic Dataset — Choose Your Source"
   ]
  },
  {
   "cell_type": "markdown",
   "id": "8d964307",
   "metadata": {},
   "source": [
    "### Option 1: Seaborn (built-in)"
   ]
  },
  {
   "cell_type": "code",
   "execution_count": null,
   "id": "42874ffb",
   "metadata": {},
   "outputs": [],
   "source": [
    "import seaborn as sns\n",
    "import pandas as pd\n",
    "import numpy as np\n",
    "from sklearn.preprocessing import StandardScaler, LabelEncoder\n",
    "\n",
    "# Load Titanic dataset from seaborn\n",
    "df = sns.load_dataset('titanic')\n",
    "df.head()"
   ]
  },
  {
   "cell_type": "markdown",
   "id": "f7695e61",
   "metadata": {},
   "source": [
    "### Option 2: GitHub Raw CSV (no account needed)"
   ]
  },
  {
   "cell_type": "code",
   "execution_count": null,
   "id": "ba9baf88",
   "metadata": {},
   "outputs": [],
   "source": [
    "url = 'https://raw.githubusercontent.com/datasciencedojo/datasets/master/titanic.csv'\n",
    "df = pd.read_csv(url)\n",
    "df.head()"
   ]
  },
  {
   "cell_type": "markdown",
   "id": "ade9fba5",
   "metadata": {},
   "source": [
    "### Option 3: Kaggle Titanic Dataset (requires manual download)"
   ]
  },
  {
   "cell_type": "code",
   "execution_count": null,
   "id": "afed301c",
   "metadata": {},
   "outputs": [],
   "source": [
    "# Upload 'train.csv' manually to your notebook environment\n",
    "# from kaggle.com/c/titanic/data\n",
    "# Then run:\n",
    "# df = pd.read_csv('train.csv')\n",
    "# df.head()"
   ]
  },
  {
   "cell_type": "markdown",
   "id": "1ac6926d",
   "metadata": {},
   "source": [
    "## 🔍 Check for Missing Values"
   ]
  },
  {
   "cell_type": "code",
   "execution_count": null,
   "id": "abe01eed",
   "metadata": {},
   "outputs": [],
   "source": [
    "df.isnull().sum()"
   ]
  },
  {
   "cell_type": "code",
   "execution_count": null,
   "id": "737e670f",
   "metadata": {},
   "outputs": [],
   "source": [
    "df.info()"
   ]
  },
  {
   "cell_type": "markdown",
   "id": "40dedaa6",
   "metadata": {},
   "source": [
    "## 🧼 Handle Missing Data"
   ]
  },
  {
   "cell_type": "code",
   "execution_count": null,
   "id": "a9cd98c2",
   "metadata": {},
   "outputs": [],
   "source": [
    "# Fill 'age' with median if it exists\n",
    "if 'age' in df.columns:\n",
    "    df['age'] = df['age'].fillna(df['age'].median())\n",
    "\n",
    "# Fill 'embarked' with mode if it exists\n",
    "if 'embarked' in df.columns:\n",
    "    df['embarked'] = df['embarked'].fillna(df['embarked'].mode()[0])\n",
    "\n",
    "# Drop 'deck' if it exists and has too many missing values\n",
    "if 'deck' in df.columns:\n",
    "    df = df.drop(columns=['deck'])\n",
    "\n",
    "df.isnull().sum()"
   ]
  },
  {
   "cell_type": "markdown",
   "id": "bd592cc0",
   "metadata": {},
   "source": [
    "## 🧹 Remove Duplicates"
   ]
  },
  {
   "cell_type": "code",
   "execution_count": null,
   "id": "d5730fc2",
   "metadata": {},
   "outputs": [],
   "source": [
    "df = df.drop_duplicates()\n",
    "df.shape"
   ]
  },
  {
   "cell_type": "markdown",
   "id": "c4d015a8",
   "metadata": {},
   "source": [
    "## 🏷️ Encode Categorical Variables"
   ]
  },
  {
   "cell_type": "code",
   "execution_count": null,
   "id": "b6be8064",
   "metadata": {},
   "outputs": [],
   "source": [
    "le = LabelEncoder()\n",
    "\n",
    "# Encode 'sex' if present\n",
    "if 'sex' in df.columns:\n",
    "    df['sex'] = le.fit_transform(df['sex'])\n",
    "\n",
    "# Encode 'embarked' if present\n",
    "if 'embarked' in df.columns:\n",
    "    df['embarked'] = le.fit_transform(df['embarked'])\n",
    "\n",
    "df.select_dtypes(include='object').head()"
   ]
  },
  {
   "cell_type": "markdown",
   "id": "db673660",
   "metadata": {},
   "source": [
    "## ⚖️ Feature Scaling"
   ]
  },
  {
   "cell_type": "code",
   "execution_count": null,
   "id": "5c5ebebf",
   "metadata": {},
   "outputs": [],
   "source": [
    "scaler = StandardScaler()\n",
    "\n",
    "# Scale age and fare if they exist\n",
    "for col in ['age', 'fare']:\n",
    "    if col in df.columns:\n",
    "        df[[col]] = scaler.fit_transform(df[[col]])\n",
    "\n",
    "df.describe()"
   ]
  },
  {
   "cell_type": "markdown",
   "id": "e1456f40",
   "metadata": {},
   "source": [
    "## 🎮 Game: Find the Odd Passenger"
   ]
  },
  {
   "cell_type": "code",
   "execution_count": null,
   "id": "41af62ba",
   "metadata": {},
   "outputs": [],
   "source": [
    "# Find passengers with extremely high or low fare values\n",
    "outliers = df[(df['fare'] > 2.5) | (df['fare'] < -2.5)] if 'fare' in df.columns else pd.DataFrame()\n",
    "\n",
    "print(\"🚨 Unusual Fare Passengers:\")\n",
    "if not outliers.empty:\n",
    "    print(outliers[['age', 'fare', 'sex', 'embarked']] if 'age' in outliers.columns else outliers)\n",
    "else:\n",
    "    print(\"No extreme outliers found or 'fare' column missing.\")"
   ]
  },
  {
   "cell_type": "markdown",
   "id": "9dd52466",
   "metadata": {},
   "source": [
    "## ✅ Summary\n",
    "- Cleaned missing data\n",
    "- Removed duplicates\n",
    "- Encoded and scaled features\n",
    "- Created a game to detect outliers"
   ]
  }
 ],
 "metadata": {},
 "nbformat": 4,
 "nbformat_minor": 5
}
