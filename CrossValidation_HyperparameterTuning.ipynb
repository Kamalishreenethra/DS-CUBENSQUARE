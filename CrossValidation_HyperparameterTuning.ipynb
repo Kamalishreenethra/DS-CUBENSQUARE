{
 "cells": [
  {
   "cell_type": "markdown",
   "id": "074407a9",
   "metadata": {},
   "source": [
    "# 📅 Day 12: Cross-Validation & Hyperparameter Tuning"
   ]
  },
  {
   "cell_type": "markdown",
   "id": "c0f67d1f",
   "metadata": {},
   "source": [
    "## 🎯 Objective\n",
    "Understand the purpose of cross-validation and learn how to perform hyperparameter tuning using GridSearchCV and RandomizedSearchCV."
   ]
  },
  {
   "cell_type": "markdown",
   "id": "766f5959",
   "metadata": {},
   "source": [
    "## 🔄 What is Cross-Validation?\n",
    "- Technique for evaluating models on different subsets of data\n",
    "- Helps detect overfitting and ensures robustness\n",
    "- **K-Fold Cross-Validation** splits data into K parts and trains K times"
   ]
  },
  {
   "cell_type": "markdown",
   "id": "4c57c309",
   "metadata": {},
   "source": [
    "## ⚙️ What is Hyperparameter Tuning?\n",
    "- The process of finding the best configuration (e.g., `max_depth`, `n_estimators`)\n",
    "- Tools: `GridSearchCV`, `RandomizedSearchCV`\n",
    "- Evaluates all combinations of provided parameters using cross-validation"
   ]
  },
  {
   "cell_type": "markdown",
   "id": "b08e0322",
   "metadata": {},
   "source": [
    "## 📦 Step 1 – Load & Prepare Data"
   ]
  },
  {
   "cell_type": "code",
   "execution_count": null,
   "id": "740ea108",
   "metadata": {},
   "outputs": [],
   "source": [
    "from sklearn.datasets import load_breast_cancer\n",
    "from sklearn.model_selection import train_test_split\n",
    "from sklearn.preprocessing import StandardScaler\n",
    "import pandas as pd\n",
    "\n",
    "# Load dataset\n",
    "data = load_breast_cancer()\n",
    "df = pd.DataFrame(data.data, columns=data.feature_names)\n",
    "df['target'] = data.target\n",
    "\n",
    "X = df.drop('target', axis=1)\n",
    "y = df['target']\n",
    "X_train, X_test, y_train, y_test = train_test_split(X, y, test_size=0.2, stratify=y, random_state=42)\n",
    "scaler = StandardScaler()\n",
    "X_train_scaled = scaler.fit_transform(X_train)\n",
    "X_test_scaled = scaler.transform(X_test)"
   ]
  },
  {
   "cell_type": "markdown",
   "id": "21457d64",
   "metadata": {},
   "source": [
    "## 🔍 Step 2 – Hyperparameter Tuning with GridSearchCV"
   ]
  },
  {
   "cell_type": "code",
   "execution_count": null,
   "id": "f229c9ac",
   "metadata": {},
   "outputs": [],
   "source": [
    "from sklearn.ensemble import RandomForestClassifier\n",
    "from sklearn.model_selection import GridSearchCV\n",
    "\n",
    "param_grid = {\n",
    "    'n_estimators': [50, 100, 150],\n",
    "    'max_depth': [3, 5, 7],\n",
    "    'criterion': ['gini', 'entropy']\n",
    "}\n",
    "\n",
    "grid_search = GridSearchCV(RandomForestClassifier(random_state=42), param_grid, cv=5, scoring='accuracy')\n",
    "grid_search.fit(X_train_scaled, y_train)\n",
    "\n",
    "print('Best Params:', grid_search.best_params_)\n",
    "print('Best Score:', grid_search.best_score_)"
   ]
  },
  {
   "cell_type": "markdown",
   "id": "2097360f",
   "metadata": {},
   "source": [
    "## ✅ Step 3 – Evaluate the Best Model"
   ]
  },
  {
   "cell_type": "code",
   "execution_count": null,
   "id": "778a9a50",
   "metadata": {},
   "outputs": [],
   "source": [
    "from sklearn.metrics import classification_report, accuracy_score\n",
    "\n",
    "best_model = grid_search.best_estimator_\n",
    "y_pred = best_model.predict(X_test_scaled)\n",
    "\n",
    "print('Test Accuracy:', accuracy_score(y_test, y_pred))\n",
    "print(classification_report(y_test, y_pred))"
   ]
  },
  {
   "cell_type": "markdown",
   "id": "55b828e9",
   "metadata": {},
   "source": [
    "## 🎲 Bonus – RandomizedSearchCV (Faster for Large Grids)"
   ]
  },
  {
   "cell_type": "code",
   "execution_count": null,
   "id": "03065491",
   "metadata": {},
   "outputs": [],
   "source": [
    "from sklearn.model_selection import RandomizedSearchCV\n",
    "from scipy.stats import randint\n",
    "\n",
    "param_dist = {\n",
    "    'n_estimators': randint(50, 200),\n",
    "    'max_depth': randint(2, 10)\n",
    "}\n",
    "\n",
    "random_search = RandomizedSearchCV(RandomForestClassifier(random_state=42), param_dist, n_iter=10, cv=5, random_state=42)\n",
    "random_search.fit(X_train_scaled, y_train)\n",
    "\n",
    "print('Random Search Best Params:', random_search.best_params_)\n",
    "print('Best CV Score:', random_search.best_score_)"
   ]
  }
 ],
 "metadata": {},
 "nbformat": 4,
 "nbformat_minor": 5
}
