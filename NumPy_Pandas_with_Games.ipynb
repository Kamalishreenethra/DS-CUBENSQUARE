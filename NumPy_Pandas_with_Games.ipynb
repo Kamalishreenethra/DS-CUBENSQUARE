{
 "cells": [
  {
   "cell_type": "markdown",
   "id": "7375086f",
   "metadata": {},
   "source": [
    "# 📘 Day 3: Python – NumPy & Pandas (Game-Based Learning)"
   ]
  },
  {
   "cell_type": "markdown",
   "id": "9dc5935a",
   "metadata": {},
   "source": [
    "## 🧰 Install and Import Libraries"
   ]
  },
  {
   "cell_type": "code",
   "execution_count": null,
   "id": "77d49033",
   "metadata": {},
   "outputs": [],
   "source": [
    "!pip install numpy pandas"
   ]
  },
  {
   "cell_type": "code",
   "execution_count": null,
   "id": "1e50fd55",
   "metadata": {},
   "outputs": [],
   "source": [
    "import numpy as np\n",
    "import pandas as pd"
   ]
  },
  {
   "cell_type": "markdown",
   "id": "ea2c66f5",
   "metadata": {},
   "source": [
    "## 🔢 NumPy Basics"
   ]
  },
  {
   "cell_type": "code",
   "execution_count": null,
   "id": "2cbfcc3a",
   "metadata": {},
   "outputs": [],
   "source": [
    "# Create an array\n",
    "arr = np.array([1, 2, 3, 4])\n",
    "print(\"Array:\", arr)\n",
    "\n",
    "# 2D Array\n",
    "arr2d = np.array([[1, 2], [3, 4]])\n",
    "print(\"2D Array:\\n\", arr2d)"
   ]
  },
  {
   "cell_type": "code",
   "execution_count": null,
   "id": "fea8303f",
   "metadata": {},
   "outputs": [],
   "source": [
    "# Array operations\n",
    "a = np.array([1, 2, 3])\n",
    "b = np.array([4, 5, 6])\n",
    "print(\"Sum:\", a + b)\n",
    "print(\"Square:\", a ** 2)\n",
    "print(\"Mean:\", np.mean(a))"
   ]
  },
  {
   "cell_type": "markdown",
   "id": "289aa187",
   "metadata": {},
   "source": [
    "## 📊 Pandas Basics"
   ]
  },
  {
   "cell_type": "code",
   "execution_count": null,
   "id": "bf1d7e19",
   "metadata": {},
   "outputs": [],
   "source": [
    "# Series\n",
    "data = pd.Series([10, 20, 30, 40])\n",
    "print(data)\n",
    "print(\"Mean:\", data.mean())"
   ]
  },
  {
   "cell_type": "code",
   "execution_count": null,
   "id": "59e5ea71",
   "metadata": {},
   "outputs": [],
   "source": [
    "# DataFrame\n",
    "df = pd.DataFrame({\n",
    "    \"Name\": [\"Alice\", \"Bob\", \"Charlie\"],\n",
    "    \"Age\": [25, 30, 35],\n",
    "    \"Score\": [85, 90, 95]\n",
    "})\n",
    "print(df)"
   ]
  },
  {
   "cell_type": "markdown",
   "id": "d801cb36",
   "metadata": {},
   "source": [
    "## 📂 Load CSV"
   ]
  },
  {
   "cell_type": "code",
   "execution_count": null,
   "id": "97e38fbc",
   "metadata": {},
   "outputs": [],
   "source": [
    "df = pd.read_csv(\"https://people.sc.fsu.edu/~jburkardt/data/csv/airtravel.csv\")\n",
    "print(df.head())"
   ]
  },
  {
   "cell_type": "markdown",
   "id": "a17a23da",
   "metadata": {},
   "source": [
    "## 🎮 Game 1: Dice Roll Analysis (NumPy)"
   ]
  },
  {
   "cell_type": "code",
   "execution_count": null,
   "id": "b8d4a95c",
   "metadata": {},
   "outputs": [],
   "source": [
    "rolls = np.random.randint(1, 7, size=1000)\n",
    "unique, counts = np.unique(rolls, return_counts=True)\n",
    "\n",
    "for val, count in zip(unique, counts):\n",
    "    print(f\"Face {val}: {count} times\")\n",
    "\n",
    "print(\"Most common face:\", unique[np.argmax(counts)])"
   ]
  },
  {
   "cell_type": "markdown",
   "id": "c79ec0e6",
   "metadata": {},
   "source": [
    "## 🎮 Game 2: Student Score Analyzer (Pandas)"
   ]
  },
  {
   "cell_type": "code",
   "execution_count": null,
   "id": "c95bed9b",
   "metadata": {},
   "outputs": [],
   "source": [
    "data = {\n",
    "    \"Name\": [\"Alice\", \"Bob\", \"Charlie\", \"David\"],\n",
    "    \"Math\": [85, 78, 92, 60],\n",
    "    \"Science\": [89, 76, 95, 70],\n",
    "    \"English\": [91, 80, 85, 72]\n",
    "}\n",
    "\n",
    "df = pd.DataFrame(data)\n",
    "print(df)\n",
    "\n",
    "# Average score per student\n",
    "df[\"Average\"] = df[[\"Math\", \"Science\", \"English\"]].mean(axis=1)\n",
    "print(df[[\"Name\", \"Average\"]])\n",
    "\n",
    "# Filter\n",
    "print(df[df[\"Math\"] > 85])"
   ]
  },
  {
   "cell_type": "markdown",
   "id": "fc89ca7e",
   "metadata": {},
   "source": [
    "## 🎮 Game 3: CSV Country Data Quiz"
   ]
  },
  {
   "cell_type": "code",
   "execution_count": null,
   "id": "9d3cf251",
   "metadata": {},
   "outputs": [],
   "source": [
    "url = \"https://raw.githubusercontent.com/datasets/population/master/data/population.csv\"\n",
    "df = pd.read_csv(url)\n",
    "df_latest = df[df['Year'] == df['Year'].max()]\n",
    "\n",
    "print(\"Top 5 Populous Countries:\")\n",
    "print(df_latest.sort_values(\"Value\", ascending=False).head(5))"
   ]
  },
  {
   "cell_type": "markdown",
   "id": "d10cd68f",
   "metadata": {},
   "source": [
    "## ✅ Summary\n",
    "- You explored NumPy and Pandas.\n",
    "- Performed operations, filtering, aggregation.\n",
    "- Played with real-world data using games and mini projects."
   ]
  }
 ],
 "metadata": {},
 "nbformat": 4,
 "nbformat_minor": 5
}
