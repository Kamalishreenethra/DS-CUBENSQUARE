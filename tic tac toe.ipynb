{
 "cells": [
  {
   "cell_type": "code",
   "execution_count": 1,
   "id": "3abe19d4-c69c-4360-97a1-531bf018b80d",
   "metadata": {},
   "outputs": [
    {
     "name": "stdout",
     "output_type": "stream",
     "text": [
      "Tic Tac Toe - You are X, Computer is O\n",
      "\n",
      "\n",
      "  |   |  \n",
      "--+---+--\n",
      "  |   |  \n",
      "--+---+--\n",
      "  |   |  \n"
     ]
    },
    {
     "name": "stdin",
     "output_type": "stream",
     "text": [
      "Enter your move (0-8):  0\n"
     ]
    },
    {
     "name": "stdout",
     "output_type": "stream",
     "text": [
      "\n",
      "\n",
      "X |   |  \n",
      "--+---+--\n",
      "  |   |  \n",
      "--+---+--\n",
      "  |   |  \n",
      "Computer chose position 3\n",
      "\n",
      "\n",
      "X |   |  \n",
      "--+---+--\n",
      "O |   |  \n",
      "--+---+--\n",
      "  |   |  \n"
     ]
    },
    {
     "name": "stdin",
     "output_type": "stream",
     "text": [
      "Enter your move (0-8):  8\n"
     ]
    },
    {
     "name": "stdout",
     "output_type": "stream",
     "text": [
      "\n",
      "\n",
      "X |   |  \n",
      "--+---+--\n",
      "O |   |  \n",
      "--+---+--\n",
      "  |   | X\n",
      "Computer chose position 7\n",
      "\n",
      "\n",
      "X |   |  \n",
      "--+---+--\n",
      "O |   |  \n",
      "--+---+--\n",
      "  | O | X\n"
     ]
    },
    {
     "name": "stdin",
     "output_type": "stream",
     "text": [
      "Enter your move (0-8):  4\n"
     ]
    },
    {
     "name": "stdout",
     "output_type": "stream",
     "text": [
      "\n",
      "\n",
      "X |   |  \n",
      "--+---+--\n",
      "O | X |  \n",
      "--+---+--\n",
      "  | O | X\n",
      "You win!\n"
     ]
    }
   ],
   "source": [
    "import random\n",
    "\n",
    "# Create empty board\n",
    "board = [\" \" for _ in range(9)]\n",
    "\n",
    "# Display board\n",
    "def show_board():\n",
    "    print(\"\\n\")\n",
    "    for i in range(3):\n",
    "        print(\" | \".join(board[i*3:(i+1)*3]))\n",
    "        if i < 2:\n",
    "            print(\"--+---+--\")\n",
    "\n",
    "# Check winner\n",
    "def check_winner(player):\n",
    "    win_positions = [\n",
    "        (0,1,2), (3,4,5), (6,7,8),  # rows\n",
    "        (0,3,6), (1,4,7), (2,5,8),  # columns\n",
    "        (0,4,8), (2,4,6)            # diagonals\n",
    "    ]\n",
    "    return any(board[a] == board[b] == board[c] == player for a,b,c in win_positions)\n",
    "\n",
    "# Check if board is full\n",
    "def is_draw():\n",
    "    return \" \" not in board\n",
    "\n",
    "# Player move\n",
    "def player_turn():\n",
    "    while True:\n",
    "        try:\n",
    "            move = int(input(\"Enter your move (0-8): \"))\n",
    "            if board[move] == \" \":\n",
    "                board[move] = \"X\"\n",
    "                break\n",
    "            else:\n",
    "                print(\"Cell already taken!\")\n",
    "        except:\n",
    "            print(\"Invalid move! Enter number 0-8.\")\n",
    "\n",
    "# Computer move\n",
    "def computer_turn():\n",
    "    empty = [i for i in range(9) if board[i] == \" \"]\n",
    "    move = random.choice(empty)\n",
    "    board[move] = \"O\"\n",
    "    print(f\"Computer chose position {move}\")\n",
    "\n",
    "# Main game loop\n",
    "def play_game():\n",
    "    print(\"Tic Tac Toe - You are X, Computer is O\")\n",
    "    show_board()\n",
    "\n",
    "    while True:\n",
    "        player_turn()\n",
    "        show_board()\n",
    "        if check_winner(\"X\"):\n",
    "            print(\"You win!\")\n",
    "            break\n",
    "        if is_draw():\n",
    "            print(\"It's a draw!\")\n",
    "            break\n",
    "\n",
    "        computer_turn()\n",
    "        show_board()\n",
    "        if check_winner(\"O\"):\n",
    "            print(\"Computer wins!\")\n",
    "            break\n",
    "        if is_draw():\n",
    "            print(\"It's a draw!\")\n",
    "            break\n",
    "\n",
    "# Start game\n",
    "play_game()\n"
   ]
  },
  {
   "cell_type": "code",
   "execution_count": null,
   "id": "75898875-0328-4178-8c64-5d84efec2134",
   "metadata": {},
   "outputs": [],
   "source": []
  }
 ],
 "metadata": {
  "kernelspec": {
   "display_name": "Python [conda env:base] *",
   "language": "python",
   "name": "conda-base-py"
  },
  "language_info": {
   "codemirror_mode": {
    "name": "ipython",
    "version": 3
   },
   "file_extension": ".py",
   "mimetype": "text/x-python",
   "name": "python",
   "nbconvert_exporter": "python",
   "pygments_lexer": "ipython3",
   "version": "3.12.7"
  }
 },
 "nbformat": 4,
 "nbformat_minor": 5
}
