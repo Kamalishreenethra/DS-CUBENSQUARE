{
 "cells": [
  {
   "cell_type": "markdown",
   "id": "58c4b8f5",
   "metadata": {},
   "source": [
    "# 📅 Day 9: Evaluation Metrics & Confusion Matrix"
   ]
  },
  {
   "cell_type": "markdown",
   "id": "97056950",
   "metadata": {},
   "source": [
    "## 🎯 Objective\n",
    "Understand how to evaluate classification models using accuracy, precision, recall, F1-score, and the confusion matrix."
   ]
  },
  {
   "cell_type": "markdown",
   "id": "31bd23e2",
   "metadata": {},
   "source": [
    "## 📘 Dataset: Breast Cancer Dataset\n",
    "We'll continue using the breast cancer dataset for consistency."
   ]
  },
  {
   "cell_type": "code",
   "execution_count": null,
   "id": "032b042a",
   "metadata": {},
   "outputs": [],
   "source": [
    "from sklearn.datasets import load_breast_cancer\n",
    "import pandas as pd\n",
    "from sklearn.model_selection import train_test_split\n",
    "from sklearn.preprocessing import StandardScaler\n",
    "from sklearn.linear_model import LogisticRegression\n",
    "\n",
    "# Load and prepare data\n",
    "data = load_breast_cancer()\n",
    "df = pd.DataFrame(data.data, columns=data.feature_names)\n",
    "df['target'] = data.target\n",
    "\n",
    "X = df.drop('target', axis=1)\n",
    "y = df['target']\n",
    "\n",
    "X_train, X_test, y_train, y_test = train_test_split(X, y, test_size=0.2, random_state=42)\n",
    "scaler = StandardScaler()\n",
    "X_train_scaled = scaler.fit_transform(X_train)\n",
    "X_test_scaled = scaler.transform(X_test)\n",
    "\n",
    "model = LogisticRegression()\n",
    "model.fit(X_train_scaled, y_train)\n",
    "y_pred = model.predict(X_test_scaled)\n"
   ]
  },
  {
   "cell_type": "markdown",
   "id": "f91fd2ac",
   "metadata": {},
   "source": [
    "## 📊 Confusion Matrix"
   ]
  },
  {
   "cell_type": "code",
   "execution_count": null,
   "id": "f0a78bc4",
   "metadata": {},
   "outputs": [],
   "source": [
    "from sklearn.metrics import confusion_matrix, ConfusionMatrixDisplay\n",
    "\n",
    "cm = confusion_matrix(y_test, y_pred)\n",
    "disp = ConfusionMatrixDisplay(confusion_matrix=cm, display_labels=data.target_names)\n",
    "disp.plot(cmap='Blues')\n"
   ]
  },
  {
   "cell_type": "markdown",
   "id": "d88684bc",
   "metadata": {},
   "source": [
    "## 📐 Evaluation Metrics"
   ]
  },
  {
   "cell_type": "code",
   "execution_count": null,
   "id": "f4593a6d",
   "metadata": {},
   "outputs": [],
   "source": [
    "from sklearn.metrics import accuracy_score, precision_score, recall_score, f1_score, classification_report\n",
    "\n",
    "print(\"Accuracy:\", accuracy_score(y_test, y_pred))\n",
    "print(\"Precision:\", precision_score(y_test, y_pred))\n",
    "print(\"Recall:\", recall_score(y_test, y_pred))\n",
    "print(\"F1-Score:\", f1_score(y_test, y_pred))\n"
   ]
  },
  {
   "cell_type": "markdown",
   "id": "3d463c35",
   "metadata": {},
   "source": [
    "## 📋 Full Classification Report"
   ]
  },
  {
   "cell_type": "code",
   "execution_count": null,
   "id": "e36beb7d",
   "metadata": {},
   "outputs": [],
   "source": [
    "print(classification_report(y_test, y_pred, target_names=data.target_names))"
   ]
  },
  {
   "cell_type": "markdown",
   "id": "015ad117",
   "metadata": {},
   "source": [
    "## 📘 Metric Breakdown"
   ]
  },
  {
   "cell_type": "markdown",
   "id": "d3648589",
   "metadata": {},
   "source": [
    "\n",
    "| Metric        | Formula                                     | Description |\n",
    "|---------------|---------------------------------------------|-------------|\n",
    "| Accuracy      | (TP + TN) / (TP + FP + TN + FN)             | Overall correctness |\n",
    "| Precision     | TP / (TP + FP)                              | How many predicted positives are true |\n",
    "| Recall        | TP / (TP + FN)                              | How many actual positives are correctly predicted |\n",
    "| F1-Score      | 2 * (Precision * Recall) / (Precision + Recall) | Balance between precision and recall |\n"
   ]
  },
  {
   "cell_type": "markdown",
   "id": "b06cdafd",
   "metadata": {},
   "source": [
    "## ✅ Summary\n",
    "- Confusion matrix helps you visualize model performance.\n",
    "- Use multiple metrics for a complete evaluation, especially with imbalanced datasets."
   ]
  }
 ],
 "metadata": {},
 "nbformat": 4,
 "nbformat_minor": 5
}
