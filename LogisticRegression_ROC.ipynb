{
 "cells": [
  {
   "cell_type": "markdown",
   "id": "b9218dec",
   "metadata": {},
   "source": [
    "# 📅 Day 13: Logistic Regression & ROC Curve"
   ]
  },
  {
   "cell_type": "markdown",
   "id": "12eae5a1",
   "metadata": {},
   "source": [
    "## 🎯 Objective\n",
    "Learn how logistic regression works for classification problems and how to evaluate it using the ROC Curve and AUC score."
   ]
  },
  {
   "cell_type": "markdown",
   "id": "b3b656a7",
   "metadata": {},
   "source": [
    "## 🤔 What is Logistic Regression?\n",
    "- A statistical model used for **binary classification**\n",
    "- Estimates the **probability** of a class label using the **sigmoid function**\n",
    "- Output lies between 0 and 1\n",
    "- If `P(class 1) > 0.5`, predict class 1; else class 0"
   ]
  },
  {
   "cell_type": "markdown",
   "id": "125a26ae",
   "metadata": {},
   "source": [
    "## 📈 Sigmoid Function\n",
    "Transforms linear outputs to a probability:\n",
    "$$ \\sigma(z) = \\frac{1}{1 + e^{-z}} $$"
   ]
  },
  {
   "cell_type": "markdown",
   "id": "a326b59b",
   "metadata": {},
   "source": [
    "## 📦 Step 1 – Load & Prepare Data"
   ]
  },
  {
   "cell_type": "code",
   "execution_count": null,
   "id": "d2353531",
   "metadata": {},
   "outputs": [],
   "source": [
    "from sklearn.datasets import load_breast_cancer\n",
    "from sklearn.model_selection import train_test_split\n",
    "from sklearn.preprocessing import StandardScaler\n",
    "import pandas as pd\n",
    "\n",
    "data = load_breast_cancer()\n",
    "df = pd.DataFrame(data.data, columns=data.feature_names)\n",
    "df['target'] = data.target\n",
    "\n",
    "X = df.drop('target', axis=1)\n",
    "y = df['target']\n",
    "X_train, X_test, y_train, y_test = train_test_split(X, y, test_size=0.2, stratify=y, random_state=42)\n",
    "scaler = StandardScaler()\n",
    "X_train_scaled = scaler.fit_transform(X_train)\n",
    "X_test_scaled = scaler.transform(X_test)"
   ]
  },
  {
   "cell_type": "markdown",
   "id": "0ade6cc0",
   "metadata": {},
   "source": [
    "## 🤖 Step 2 – Train Logistic Regression Model"
   ]
  },
  {
   "cell_type": "code",
   "execution_count": null,
   "id": "8b4e386b",
   "metadata": {},
   "outputs": [],
   "source": [
    "from sklearn.linear_model import LogisticRegression\n",
    "from sklearn.metrics import classification_report, accuracy_score\n",
    "\n",
    "log_model = LogisticRegression(random_state=42)\n",
    "log_model.fit(X_train_scaled, y_train)\n",
    "y_pred = log_model.predict(X_test_scaled)\n",
    "\n",
    "print('Accuracy:', accuracy_score(y_test, y_pred))\n",
    "print(classification_report(y_test, y_pred))"
   ]
  },
  {
   "cell_type": "markdown",
   "id": "0845b99d",
   "metadata": {},
   "source": [
    "## 🔍 Step 3 – Evaluate with ROC Curve & AUC"
   ]
  },
  {
   "cell_type": "code",
   "execution_count": null,
   "id": "8b85d1cf",
   "metadata": {},
   "outputs": [],
   "source": [
    "from sklearn.metrics import roc_curve, roc_auc_score\n",
    "import matplotlib.pyplot as plt\n",
    "\n",
    "y_proba = log_model.predict_proba(X_test_scaled)[:, 1]\n",
    "fpr, tpr, thresholds = roc_curve(y_test, y_proba)\n",
    "auc_score = roc_auc_score(y_test, y_proba)\n",
    "\n",
    "plt.figure(figsize=(8, 6))\n",
    "plt.plot(fpr, tpr, label=f'ROC Curve (AUC = {auc_score:.2f})')\n",
    "plt.plot([0, 1], [0, 1], linestyle='--', color='gray')\n",
    "plt.xlabel('False Positive Rate')\n",
    "plt.ylabel('True Positive Rate')\n",
    "plt.title('ROC Curve')\n",
    "plt.legend()\n",
    "plt.grid(True)\n",
    "plt.show()"
   ]
  },
  {
   "cell_type": "markdown",
   "id": "fa3c434d",
   "metadata": {},
   "source": [
    "## ✅ Summary\n",
    "- Logistic Regression is a **linear model for classification**.\n",
    "- It predicts probabilities using the **sigmoid function**.\n",
    "- Evaluate classification quality using **ROC Curve** and **AUC** score.\n",
    "- The closer AUC is to **1.0**, the better the model."
   ]
  }
 ],
 "metadata": {},
 "nbformat": 4,
 "nbformat_minor": 5
}
