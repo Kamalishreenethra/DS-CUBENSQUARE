{
 "cells": [
  {
   "cell_type": "markdown",
   "id": "9d9156e3",
   "metadata": {},
   "source": [
    "# 📅 Day 7: Data Splitting and Feature Engineering"
   ]
  },
  {
   "cell_type": "markdown",
   "id": "f6ea5872",
   "metadata": {},
   "source": [
    "## 🎯 Objective\n",
    "Learn how to split datasets and perform essential feature engineering techniques before modeling."
   ]
  },
  {
   "cell_type": "markdown",
   "id": "f6522a40",
   "metadata": {},
   "source": [
    "## 🔧 What is Feature Engineering?\n",
    "Feature Engineering is the process of transforming raw data into features that better represent the underlying problem to predictive models, resulting in improved model accuracy."
   ]
  },
  {
   "cell_type": "markdown",
   "id": "b842212c",
   "metadata": {},
   "source": [
    "### 🛠 Key Concepts\n",
    "- Train-Test Split\n",
    "- One-Hot Encoding\n",
    "- Feature Scaling (Standardization)\n",
    "- Polynomial Features\n",
    "- Feature Selection"
   ]
  },
  {
   "cell_type": "markdown",
   "id": "f10631ee",
   "metadata": {},
   "source": [
    "## 📘 Dataset: California Housing Dataset\n",
    "We will use this for regression tasks."
   ]
  },
  {
   "cell_type": "code",
   "execution_count": null,
   "id": "973763c2",
   "metadata": {},
   "outputs": [],
   "source": [
    "from sklearn.datasets import fetch_california_housing\n",
    "import pandas as pd\n",
    "\n",
    "data = fetch_california_housing()\n",
    "df = pd.DataFrame(data.data, columns=data.feature_names)\n",
    "df['target'] = data.target\n",
    "df.head()"
   ]
  },
  {
   "cell_type": "markdown",
   "id": "96e00454",
   "metadata": {},
   "source": [
    "## ✂️ Step 1: Splitting the Data"
   ]
  },
  {
   "cell_type": "code",
   "execution_count": null,
   "id": "1b27fdd4",
   "metadata": {},
   "outputs": [],
   "source": [
    "from sklearn.model_selection import train_test_split\n",
    "\n",
    "X = df.drop('target', axis=1)\n",
    "y = df['target']\n",
    "\n",
    "X_train, X_test, y_train, y_test = train_test_split(X, y, test_size=0.2, random_state=42)\n",
    "print(\"Training set:\", X_train.shape)\n",
    "print(\"Testing set:\", X_test.shape)"
   ]
  },
  {
   "cell_type": "markdown",
   "id": "3c269ef6",
   "metadata": {},
   "source": [
    "## 🔄 Step 2: Feature Scaling"
   ]
  },
  {
   "cell_type": "code",
   "execution_count": null,
   "id": "7084f874",
   "metadata": {},
   "outputs": [],
   "source": [
    "from sklearn.preprocessing import StandardScaler\n",
    "\n",
    "scaler = StandardScaler()\n",
    "X_train_scaled = scaler.fit_transform(X_train)\n",
    "X_test_scaled = scaler.transform(X_test)"
   ]
  },
  {
   "cell_type": "markdown",
   "id": "7a949e94",
   "metadata": {},
   "source": [
    "## ➕ Step 3: Polynomial Features"
   ]
  },
  {
   "cell_type": "code",
   "execution_count": null,
   "id": "48d97f1a",
   "metadata": {},
   "outputs": [],
   "source": [
    "from sklearn.preprocessing import PolynomialFeatures\n",
    "\n",
    "poly = PolynomialFeatures(degree=2, include_bias=False)\n",
    "X_train_poly = poly.fit_transform(X_train_scaled)\n",
    "X_test_poly = poly.transform(X_test_scaled)\n",
    "\n",
    "print(\"Original shape:\", X_train.shape)\n",
    "print(\"Transformed shape:\", X_train_poly.shape)"
   ]
  },
  {
   "cell_type": "markdown",
   "id": "724971d4",
   "metadata": {},
   "source": [
    "## 📉 Step 4: Feature Selection (Optional Bonus)"
   ]
  },
  {
   "cell_type": "code",
   "execution_count": null,
   "id": "9d426797",
   "metadata": {},
   "outputs": [],
   "source": [
    "from sklearn.feature_selection import SelectKBest, f_regression\n",
    "\n",
    "selector = SelectKBest(score_func=f_regression, k=5)\n",
    "X_train_selected = selector.fit_transform(X_train_scaled, y_train)\n",
    "X_test_selected = selector.transform(X_test_scaled)\n",
    "\n",
    "selected_features = X.columns[selector.get_support()]\n",
    "print(\"Top selected features:\", selected_features.tolist())"
   ]
  },
  {
   "cell_type": "markdown",
   "id": "b6ef50cf",
   "metadata": {},
   "source": [
    "## ✅ Summary\n",
    "- You’ve learned how to split data, scale features, generate polynomial features, and select top features.\n",
    "- These are essential preprocessing steps before training your ML models."
   ]
  }
 ],
 "metadata": {},
 "nbformat": 4,
 "nbformat_minor": 5
}
