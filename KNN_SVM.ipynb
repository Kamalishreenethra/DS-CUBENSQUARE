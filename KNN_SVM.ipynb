{
 "cells": [
  {
   "cell_type": "markdown",
   "id": "81997c17",
   "metadata": {},
   "source": [
    "# 📅 Day 14: KNN & SVM"
   ]
  },
  {
   "cell_type": "markdown",
   "id": "49f474b2",
   "metadata": {},
   "source": [
    "## 🎯 Objective\n",
    "Learn how to use K-Nearest Neighbors (KNN) and Support Vector Machine (SVM) for classification, and compare their performance."
   ]
  },
  {
   "cell_type": "markdown",
   "id": "09908d29",
   "metadata": {},
   "source": [
    "## 🔎 What is K-Nearest Neighbors (KNN)?\n",
    "- A **lazy learning** algorithm that stores the entire dataset\n",
    "- Classifies new data points based on the **majority vote** of the K closest points\n",
    "- Works well for **small datasets**\n",
    "- No actual training phase, only distance calculations"
   ]
  },
  {
   "cell_type": "markdown",
   "id": "96c9199f",
   "metadata": {},
   "source": [
    "## 💡 What is Support Vector Machine (SVM)?\n",
    "- A **supervised learning model** that tries to find the **best boundary (hyperplane)** to separate classes\n",
    "- Works well for **high-dimensional data** and outlier-resistant\n",
    "- Can use **linear or kernel-based boundaries**"
   ]
  },
  {
   "cell_type": "markdown",
   "id": "e034be00",
   "metadata": {},
   "source": [
    "## 📦 Step 1 – Load & Prepare Data"
   ]
  },
  {
   "cell_type": "code",
   "execution_count": null,
   "id": "7c471f19",
   "metadata": {},
   "outputs": [],
   "source": [
    "from sklearn.datasets import load_breast_cancer\n",
    "from sklearn.model_selection import train_test_split\n",
    "from sklearn.preprocessing import StandardScaler\n",
    "import pandas as pd\n",
    "\n",
    "data = load_breast_cancer()\n",
    "df = pd.DataFrame(data.data, columns=data.feature_names)\n",
    "df['target'] = data.target\n",
    "\n",
    "X = df.drop('target', axis=1)\n",
    "y = df['target']\n",
    "X_train, X_test, y_train, y_test = train_test_split(X, y, test_size=0.2, stratify=y, random_state=42)\n",
    "scaler = StandardScaler()\n",
    "X_train_scaled = scaler.fit_transform(X_train)\n",
    "X_test_scaled = scaler.transform(X_test)"
   ]
  },
  {
   "cell_type": "markdown",
   "id": "997efe6b",
   "metadata": {},
   "source": [
    "## 🤖 Step 2 – Train K-Nearest Neighbors Classifier"
   ]
  },
  {
   "cell_type": "code",
   "execution_count": null,
   "id": "a493fe13",
   "metadata": {},
   "outputs": [],
   "source": [
    "from sklearn.neighbors import KNeighborsClassifier\n",
    "from sklearn.metrics import accuracy_score, classification_report\n",
    "\n",
    "knn = KNeighborsClassifier(n_neighbors=5)\n",
    "knn.fit(X_train_scaled, y_train)\n",
    "y_pred_knn = knn.predict(X_test_scaled)\n",
    "\n",
    "print('KNN Accuracy:', accuracy_score(y_test, y_pred_knn))\n",
    "print(classification_report(y_test, y_pred_knn))"
   ]
  },
  {
   "cell_type": "markdown",
   "id": "1a26ad74",
   "metadata": {},
   "source": [
    "## 🧠 Step 3 – Train Support Vector Machine (SVM)"
   ]
  },
  {
   "cell_type": "code",
   "execution_count": null,
   "id": "561b9fd2",
   "metadata": {},
   "outputs": [],
   "source": [
    "from sklearn.svm import SVC\n",
    "\n",
    "svm = SVC(kernel='linear', probability=True, random_state=42)\n",
    "svm.fit(X_train_scaled, y_train)\n",
    "y_pred_svm = svm.predict(X_test_scaled)\n",
    "\n",
    "print('SVM Accuracy:', accuracy_score(y_test, y_pred_svm))\n",
    "print(classification_report(y_test, y_pred_svm))"
   ]
  },
  {
   "cell_type": "markdown",
   "id": "37377adb",
   "metadata": {},
   "source": [
    "## 📊 Step 4 – Compare ROC Curves of KNN & SVM"
   ]
  },
  {
   "cell_type": "code",
   "execution_count": null,
   "id": "df12e31e",
   "metadata": {},
   "outputs": [],
   "source": [
    "from sklearn.metrics import roc_curve, roc_auc_score\n",
    "import matplotlib.pyplot as plt\n",
    "\n",
    "y_proba_knn = knn.predict_proba(X_test_scaled)[:, 1]\n",
    "y_proba_svm = svm.predict_proba(X_test_scaled)[:, 1]\n",
    "\n",
    "fpr_knn, tpr_knn, _ = roc_curve(y_test, y_proba_knn)\n",
    "fpr_svm, tpr_svm, _ = roc_curve(y_test, y_proba_svm)\n",
    "auc_knn = roc_auc_score(y_test, y_proba_knn)\n",
    "auc_svm = roc_auc_score(y_test, y_proba_svm)\n",
    "\n",
    "plt.figure(figsize=(8, 6))\n",
    "plt.plot(fpr_knn, tpr_knn, label=f'KNN (AUC = {auc_knn:.2f})')\n",
    "plt.plot(fpr_svm, tpr_svm, label=f'SVM (AUC = {auc_svm:.2f})')\n",
    "plt.plot([0, 1], [0, 1], 'k--')\n",
    "plt.xlabel('False Positive Rate')\n",
    "plt.ylabel('True Positive Rate')\n",
    "plt.title('ROC Curve Comparison')\n",
    "plt.legend()\n",
    "plt.grid(True)\n",
    "plt.show()"
   ]
  },
  {
   "cell_type": "markdown",
   "id": "06f1a72b",
   "metadata": {},
   "source": [
    "## ✅ Summary\n",
    "- **KNN** is simple and intuitive, based on distance voting\n",
    "- **SVM** is powerful for high-dimensional data and can use kernels\n",
    "- Use ROC Curve and AUC to compare models beyond just accuracy"
   ]
  }
 ],
 "metadata": {},
 "nbformat": 4,
 "nbformat_minor": 5
}
