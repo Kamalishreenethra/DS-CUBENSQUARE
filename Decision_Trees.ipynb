{
 "cells": [
  {
   "cell_type": "markdown",
   "id": "7cf5d941",
   "metadata": {},
   "source": [
    "# 📅 Day 10: Decision Trees\n",
    "Learn how to build and visualize a Decision Tree classifier on the Breast Cancer dataset."
   ]
  },
  {
   "cell_type": "markdown",
   "id": "bad4c76d",
   "metadata": {},
   "source": [
    "## 🎯 Objective\n",
    "- Understand the concept of Decision Trees\n",
    "- Train a Decision Tree classifier\n",
    "- Visualize the trained tree\n",
    "- Experiment with hyperparameters"
   ]
  },
  {
   "cell_type": "markdown",
   "id": "4e66afe9",
   "metadata": {},
   "source": [
    "## 🌳 What is a Decision Tree?\n",
    "A Decision Tree is a flow‑chart‑like structure where each internal node represents a decision on a feature, each branch represents an outcome of the decision, and each leaf node represents a class label."
   ]
  },
  {
   "cell_type": "markdown",
   "id": "a572cd5d",
   "metadata": {},
   "source": [
    "### 🔑 Key Concepts\n",
    "- **Splitting Criteria**: Gini Impurity (default) or Entropy/Information Gain\n",
    "- **Overfitting**: Very deep trees may overfit; control with `max_depth`, pruning, etc.\n",
    "- **Visualization**: Trees are easy to interpret once plotted."
   ]
  },
  {
   "cell_type": "markdown",
   "id": "4eb68566",
   "metadata": {},
   "source": [
    "## 📦 Step 1 – Load & Prepare Data"
   ]
  },
  {
   "cell_type": "code",
   "execution_count": null,
   "id": "e90a2abf",
   "metadata": {},
   "outputs": [],
   "source": [
    "from sklearn.datasets import load_breast_cancer\n",
    "from sklearn.model_selection import train_test_split\n",
    "from sklearn.preprocessing import StandardScaler\n",
    "import pandas as pd\n",
    "\n",
    "# Load dataset\n",
    "data = load_breast_cancer()\n",
    "df = pd.DataFrame(data.data, columns=data.feature_names)\n",
    "df['target'] = data.target\n",
    "\n",
    "# Train‑test split\n",
    "X = df.drop('target', axis=1)\n",
    "y = df['target']\n",
    "X_train, X_test, y_train, y_test = train_test_split(X, y, test_size=0.2, random_state=42, stratify=y)\n",
    "\n",
    "# Feature scaling\n",
    "scaler = StandardScaler()\n",
    "X_train_scaled = scaler.fit_transform(X_train)\n",
    "X_test_scaled  = scaler.transform(X_test)\n",
    "df.head()"
   ]
  },
  {
   "cell_type": "markdown",
   "id": "8eb329a4",
   "metadata": {},
   "source": [
    "## 🤖 Step 2 – Train a Decision Tree Classifier"
   ]
  },
  {
   "cell_type": "code",
   "execution_count": null,
   "id": "4dbca0b7",
   "metadata": {},
   "outputs": [],
   "source": [
    "from sklearn.tree import DecisionTreeClassifier\n",
    "from sklearn.metrics import accuracy_score, classification_report\n",
    "\n",
    "tree_clf = DecisionTreeClassifier(max_depth=4, random_state=42)\n",
    "tree_clf.fit(X_train_scaled, y_train)\n",
    "y_pred = tree_clf.predict(X_test_scaled)\n",
    "\n",
    "print('Accuracy:', accuracy_score(y_test, y_pred))\n",
    "print(classification_report(y_test, y_pred, target_names=data.target_names))"
   ]
  },
  {
   "cell_type": "markdown",
   "id": "882bb454",
   "metadata": {},
   "source": [
    "## 🖼 Step 3 – Visualize the Decision Tree"
   ]
  },
  {
   "cell_type": "code",
   "execution_count": null,
   "id": "77140c33",
   "metadata": {},
   "outputs": [],
   "source": [
    "from sklearn.tree import plot_tree\n",
    "import matplotlib.pyplot as plt\n",
    "\n",
    "plt.figure(figsize=(20, 10))\n",
    "plot_tree(tree_clf, filled=True, feature_names=data.feature_names, class_names=data.target_names)\n",
    "plt.show()"
   ]
  },
  {
   "cell_type": "markdown",
   "id": "1095fa07",
   "metadata": {},
   "source": [
    "## 🔄 Step 4 – Experiment with Hyperparameters"
   ]
  },
  {
   "cell_type": "code",
   "execution_count": null,
   "id": "46a04a35",
   "metadata": {},
   "outputs": [],
   "source": [
    "# Try a shallower tree\n",
    "shallow_tree = DecisionTreeClassifier(max_depth=2, criterion='entropy', random_state=42)\n",
    "shallow_tree.fit(X_train_scaled, y_train)\n",
    "shallow_pred = shallow_tree.predict(X_test_scaled)\n",
    "print('Shallow Tree Accuracy:', accuracy_score(y_test, shallow_pred))"
   ]
  },
  {
   "cell_type": "markdown",
   "id": "6a967f77",
   "metadata": {},
   "source": [
    "## ✅ Summary\n",
    "- Decision Trees split data based on feature thresholds.\n",
    "- Control depth & criteria to manage bias‑variance trade‑off.\n",
    "- Trees are highly interpretable and form the basis for ensemble methods like Random Forests."
   ]
  }
 ],
 "metadata": {},
 "nbformat": 4,
 "nbformat_minor": 5
}
