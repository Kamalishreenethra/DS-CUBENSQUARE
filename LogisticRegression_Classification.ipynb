{
 "cells": [
  {
   "cell_type": "markdown",
   "id": "656bc6f3",
   "metadata": {},
   "source": [
    "# 📅 Day 8: Classification – Logistic Regression"
   ]
  },
  {
   "cell_type": "markdown",
   "id": "d0af4f63",
   "metadata": {},
   "source": [
    "## 🎯 Objective\n",
    "Understand and implement logistic regression for binary classification problems."
   ]
  },
  {
   "cell_type": "markdown",
   "id": "97b98128",
   "metadata": {},
   "source": [
    "## 🧠 What is Classification?\n",
    "Classification is a type of supervised learning where the output variable is a category or class (e.g., spam or not spam)."
   ]
  },
  {
   "cell_type": "markdown",
   "id": "234f8009",
   "metadata": {},
   "source": [
    "## ⚖️ Logistic Regression\n",
    "- A statistical model used for binary classification\n",
    "- Outputs probability (between 0 and 1)\n",
    "- Uses the logistic (sigmoid) function to map predictions"
   ]
  },
  {
   "cell_type": "markdown",
   "id": "3adef47f",
   "metadata": {},
   "source": [
    "## 🔢 Sigmoid Function\n",
    "\\[ \\sigma(z) = \\frac{1}{1 + e^{-z}} \\]"
   ]
  },
  {
   "cell_type": "markdown",
   "id": "9e91c63b",
   "metadata": {},
   "source": [
    "## 📘 Dataset: Breast Cancer Dataset (from sklearn)\n",
    "This is a binary classification problem (malignant vs benign)."
   ]
  },
  {
   "cell_type": "code",
   "execution_count": null,
   "id": "bd16d724",
   "metadata": {},
   "outputs": [],
   "source": [
    "from sklearn.datasets import load_breast_cancer\n",
    "import pandas as pd\n",
    "\n",
    "data = load_breast_cancer()\n",
    "df = pd.DataFrame(data.data, columns=data.feature_names)\n",
    "df['target'] = data.target\n",
    "df.head()"
   ]
  },
  {
   "cell_type": "markdown",
   "id": "43209f0b",
   "metadata": {},
   "source": [
    "## ✂️ Step 1: Data Splitting"
   ]
  },
  {
   "cell_type": "code",
   "execution_count": null,
   "id": "5304d95c",
   "metadata": {},
   "outputs": [],
   "source": [
    "from sklearn.model_selection import train_test_split\n",
    "\n",
    "X = df.drop('target', axis=1)\n",
    "y = df['target']\n",
    "\n",
    "X_train, X_test, y_train, y_test = train_test_split(X, y, test_size=0.2, random_state=42)\n"
   ]
  },
  {
   "cell_type": "markdown",
   "id": "b9f292a8",
   "metadata": {},
   "source": [
    "## 🔄 Step 2: Feature Scaling"
   ]
  },
  {
   "cell_type": "code",
   "execution_count": null,
   "id": "e10dbe52",
   "metadata": {},
   "outputs": [],
   "source": [
    "from sklearn.preprocessing import StandardScaler\n",
    "\n",
    "scaler = StandardScaler()\n",
    "X_train_scaled = scaler.fit_transform(X_train)\n",
    "X_test_scaled = scaler.transform(X_test)\n"
   ]
  },
  {
   "cell_type": "markdown",
   "id": "0a1f0a73",
   "metadata": {},
   "source": [
    "## 🤖 Step 3: Train Logistic Regression Model"
   ]
  },
  {
   "cell_type": "code",
   "execution_count": null,
   "id": "226b9261",
   "metadata": {},
   "outputs": [],
   "source": [
    "from sklearn.linear_model import LogisticRegression\n",
    "\n",
    "model = LogisticRegression()\n",
    "model.fit(X_train_scaled, y_train)\n"
   ]
  },
  {
   "cell_type": "markdown",
   "id": "1fd937ab",
   "metadata": {},
   "source": [
    "## 📊 Step 4: Evaluate the Model"
   ]
  },
  {
   "cell_type": "code",
   "execution_count": null,
   "id": "9fbff4ab",
   "metadata": {},
   "outputs": [],
   "source": [
    "from sklearn.metrics import accuracy_score, confusion_matrix, classification_report\n",
    "\n",
    "y_pred = model.predict(X_test_scaled)\n",
    "print(\"Accuracy:\", accuracy_score(y_test, y_pred))\n",
    "print(\"Confusion Matrix:\\n\", confusion_matrix(y_test, y_pred))\n",
    "print(\"Classification Report:\\n\", classification_report(y_test, y_pred))\n"
   ]
  },
  {
   "cell_type": "markdown",
   "id": "10561716",
   "metadata": {},
   "source": [
    "## ✅ Summary\n",
    "- Logistic Regression is a foundational classification algorithm.\n",
    "- Ideal for binary outputs.\n",
    "- Easy to interpret and use as a baseline model."
   ]
  }
 ],
 "metadata": {},
 "nbformat": 4,
 "nbformat_minor": 5
}
