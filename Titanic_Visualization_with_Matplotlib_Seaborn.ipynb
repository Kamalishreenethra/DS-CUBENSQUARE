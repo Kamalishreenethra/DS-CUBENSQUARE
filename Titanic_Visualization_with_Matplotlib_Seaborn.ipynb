{
 "cells": [
  {
   "cell_type": "markdown",
   "id": "0add84ec",
   "metadata": {},
   "source": [
    "# 📊 Day 5: Data Visualization with Matplotlib & Seaborn"
   ]
  },
  {
   "cell_type": "markdown",
   "id": "896ebec7",
   "metadata": {},
   "source": [
    "## 🧠 Objective\n",
    "Learn how to explore and visualize datasets using Matplotlib and Seaborn to draw insights and communicate findings."
   ]
  },
  {
   "cell_type": "markdown",
   "id": "428fd060",
   "metadata": {},
   "source": [
    "## 🛠️ Setup"
   ]
  },
  {
   "cell_type": "code",
   "execution_count": null,
   "id": "092817f2",
   "metadata": {},
   "outputs": [],
   "source": [
    "import pandas as pd\n",
    "import matplotlib.pyplot as plt\n",
    "import seaborn as sns\n",
    "\n",
    "# Load Titanic dataset\n",
    "df = sns.load_dataset('titanic')\n",
    "df.head()"
   ]
  },
  {
   "cell_type": "markdown",
   "id": "d8bfc907",
   "metadata": {},
   "source": [
    "## 🔸 Bar Plot – Count of Male vs Female"
   ]
  },
  {
   "cell_type": "code",
   "execution_count": null,
   "id": "b142deb7",
   "metadata": {},
   "outputs": [],
   "source": [
    "sns.countplot(x='sex', data=df)\n",
    "plt.title(\"Passenger Gender Distribution\")\n",
    "plt.show()"
   ]
  },
  {
   "cell_type": "markdown",
   "id": "d48e711c",
   "metadata": {},
   "source": [
    "## 🔸 Histogram – Age Distribution"
   ]
  },
  {
   "cell_type": "code",
   "execution_count": null,
   "id": "21970c71",
   "metadata": {},
   "outputs": [],
   "source": [
    "sns.histplot(df['age'].dropna(), kde=True, bins=30)\n",
    "plt.title(\"Age Distribution of Passengers\")\n",
    "plt.xlabel(\"Age\")\n",
    "plt.show()"
   ]
  },
  {
   "cell_type": "markdown",
   "id": "bac5b824",
   "metadata": {},
   "source": [
    "## 🔸 Box Plot – Age vs Class"
   ]
  },
  {
   "cell_type": "code",
   "execution_count": null,
   "id": "19fdbb80",
   "metadata": {},
   "outputs": [],
   "source": [
    "sns.boxplot(x='class', y='age', data=df)\n",
    "plt.title(\"Age Distribution per Passenger Class\")\n",
    "plt.show()"
   ]
  },
  {
   "cell_type": "markdown",
   "id": "a3ff9851",
   "metadata": {},
   "source": [
    "## 🔸 Scatter Plot – Fare vs Age (Survival Color-coded)"
   ]
  },
  {
   "cell_type": "code",
   "execution_count": null,
   "id": "6b049eb4",
   "metadata": {},
   "outputs": [],
   "source": [
    "sns.scatterplot(x='age', y='fare', data=df, hue='survived')\n",
    "plt.title(\"Fare Paid vs Passenger Age\")\n",
    "plt.show()"
   ]
  },
  {
   "cell_type": "markdown",
   "id": "372def2b",
   "metadata": {},
   "source": [
    "## 🔸 Heatmap – Correlation of Numeric Features"
   ]
  },
  {
   "cell_type": "code",
   "execution_count": null,
   "id": "d7ae7ad9",
   "metadata": {},
   "outputs": [],
   "source": [
    "numeric_df = df.select_dtypes(include=['float64', 'int64'])\n",
    "sns.heatmap(numeric_df.corr(), annot=True, cmap='coolwarm')\n",
    "plt.title(\"Correlation Heatmap\")\n",
    "plt.show()"
   ]
  },
  {
   "cell_type": "markdown",
   "id": "b4325501",
   "metadata": {},
   "source": [
    "## 🔸 Pie Chart – Survival Percentage"
   ]
  },
  {
   "cell_type": "code",
   "execution_count": null,
   "id": "f32cbc3b",
   "metadata": {},
   "outputs": [],
   "source": [
    "survived_counts = df['survived'].value_counts()\n",
    "labels = ['Not Survived', 'Survived']\n",
    "plt.pie(survived_counts, labels=labels, autopct='%1.1f%%', startangle=140)\n",
    "plt.title(\"Survival Distribution\")\n",
    "plt.show()"
   ]
  },
  {
   "cell_type": "markdown",
   "id": "5ce01fa6",
   "metadata": {},
   "source": [
    "## 🎮 Mini Challenge – Create a Titanic Dashboard"
   ]
  },
  {
   "cell_type": "code",
   "execution_count": null,
   "id": "51dcdee4",
   "metadata": {},
   "outputs": [],
   "source": [
    "fig, axes = plt.subplots(2, 2, figsize=(14,10))\n",
    "\n",
    "# Bar plot\n",
    "sns.countplot(x='class', data=df, ax=axes[0, 0])\n",
    "axes[0, 0].set_title(\"Passenger Class Count\")\n",
    "\n",
    "# Box plot\n",
    "sns.boxplot(x='sex', y='age', data=df, ax=axes[0, 1])\n",
    "axes[0, 1].set_title(\"Age Distribution by Gender\")\n",
    "\n",
    "# Histogram\n",
    "sns.histplot(df['fare'].dropna(), kde=True, bins=30, ax=axes[1, 0])\n",
    "axes[1, 0].set_title(\"Fare Distribution\")\n",
    "\n",
    "# Scatter plot\n",
    "sns.scatterplot(x='age', y='fare', hue='survived', data=df, ax=axes[1, 1])\n",
    "axes[1, 1].set_title(\"Age vs Fare (Survival)\")\n",
    "\n",
    "plt.tight_layout()\n",
    "plt.show()"
   ]
  },
  {
   "cell_type": "markdown",
   "id": "723f3c4d",
   "metadata": {},
   "source": [
    "## ✅ Summary\n",
    "- Learned different types of plots using Matplotlib & Seaborn\n",
    "- Explored Titanic data visually\n",
    "- Built a multi-plot dashboard for storytelling"
   ]
  }
 ],
 "metadata": {},
 "nbformat": 4,
 "nbformat_minor": 5
}
